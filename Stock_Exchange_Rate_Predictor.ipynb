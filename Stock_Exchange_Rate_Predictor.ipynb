{
 "cells": [
  {
   "cell_type": "code",
   "execution_count": 1,
   "metadata": {},
   "outputs": [],
   "source": [
    "# This program uses an artificial neural network called Long term short memory (LSTM)\n",
    "# to predict the closing stock proce of a corporation (Apple Inc.) using the past 60 days stock price"
   ]
  },
  {
   "cell_type": "code",
   "execution_count": 2,
   "metadata": {},
   "outputs": [
    {
     "name": "stderr",
     "output_type": "stream",
     "text": [
      "C:\\Users\\aryam\\Anaconda3\\lib\\site-packages\\pandas_datareader\\compat\\__init__.py:7: FutureWarning: pandas.util.testing is deprecated. Use the functions in the public API at pandas.testing instead.\n",
      "  from pandas.util.testing import assert_frame_equal\n",
      "Using TensorFlow backend.\n"
     ]
    }
   ],
   "source": [
    "#Import libraries\n",
    "import math\n",
    "import pandas as pd\n",
    "import numpy as np\n",
    "import pandas_datareader as web\n",
    "from sklearn.preprocessing import MinMaxScaler\n",
    "from keras.models import Sequential\n",
    "from keras.layers import Dense, LSTM\n",
    "import matplotlib.pyplot as plt \n",
    "plt.style.use('fivethirtyeight')"
   ]
  },
  {
   "cell_type": "code",
   "execution_count": 3,
   "metadata": {},
   "outputs": [
    {
     "data": {
      "text/html": [
       "<div>\n",
       "<style scoped>\n",
       "    .dataframe tbody tr th:only-of-type {\n",
       "        vertical-align: middle;\n",
       "    }\n",
       "\n",
       "    .dataframe tbody tr th {\n",
       "        vertical-align: top;\n",
       "    }\n",
       "\n",
       "    .dataframe thead th {\n",
       "        text-align: right;\n",
       "    }\n",
       "</style>\n",
       "<table border=\"1\" class=\"dataframe\">\n",
       "  <thead>\n",
       "    <tr style=\"text-align: right;\">\n",
       "      <th></th>\n",
       "      <th>High</th>\n",
       "      <th>Low</th>\n",
       "      <th>Open</th>\n",
       "      <th>Close</th>\n",
       "      <th>Volume</th>\n",
       "      <th>Adj Close</th>\n",
       "    </tr>\n",
       "    <tr>\n",
       "      <th>Date</th>\n",
       "      <th></th>\n",
       "      <th></th>\n",
       "      <th></th>\n",
       "      <th></th>\n",
       "      <th></th>\n",
       "      <th></th>\n",
       "    </tr>\n",
       "  </thead>\n",
       "  <tbody>\n",
       "    <tr>\n",
       "      <th>2012-01-02</th>\n",
       "      <td>274.500000</td>\n",
       "      <td>267.975006</td>\n",
       "      <td>272.649994</td>\n",
       "      <td>270.799988</td>\n",
       "      <td>28842.0</td>\n",
       "      <td>231.609940</td>\n",
       "    </tr>\n",
       "    <tr>\n",
       "      <th>2012-01-03</th>\n",
       "      <td>275.000000</td>\n",
       "      <td>267.500000</td>\n",
       "      <td>271.000000</td>\n",
       "      <td>272.000000</td>\n",
       "      <td>12304.0</td>\n",
       "      <td>232.636276</td>\n",
       "    </tr>\n",
       "    <tr>\n",
       "      <th>2012-01-04</th>\n",
       "      <td>273.875000</td>\n",
       "      <td>269.000000</td>\n",
       "      <td>269.575012</td>\n",
       "      <td>269.850006</td>\n",
       "      <td>61410.0</td>\n",
       "      <td>230.797440</td>\n",
       "    </tr>\n",
       "    <tr>\n",
       "      <th>2012-01-05</th>\n",
       "      <td>275.000000</td>\n",
       "      <td>263.500000</td>\n",
       "      <td>271.450012</td>\n",
       "      <td>268.875000</td>\n",
       "      <td>16936.0</td>\n",
       "      <td>229.963547</td>\n",
       "    </tr>\n",
       "    <tr>\n",
       "      <th>2012-01-06</th>\n",
       "      <td>269.225006</td>\n",
       "      <td>262.625000</td>\n",
       "      <td>265.500000</td>\n",
       "      <td>264.274994</td>\n",
       "      <td>3064.0</td>\n",
       "      <td>226.029251</td>\n",
       "    </tr>\n",
       "    <tr>\n",
       "      <th>...</th>\n",
       "      <td>...</td>\n",
       "      <td>...</td>\n",
       "      <td>...</td>\n",
       "      <td>...</td>\n",
       "      <td>...</td>\n",
       "      <td>...</td>\n",
       "    </tr>\n",
       "    <tr>\n",
       "      <th>2020-03-31</th>\n",
       "      <td>2008.000000</td>\n",
       "      <td>1952.000000</td>\n",
       "      <td>1979.699951</td>\n",
       "      <td>1971.800049</td>\n",
       "      <td>324803.0</td>\n",
       "      <td>1971.800049</td>\n",
       "    </tr>\n",
       "    <tr>\n",
       "      <th>2020-04-01</th>\n",
       "      <td>1983.150024</td>\n",
       "      <td>1932.000000</td>\n",
       "      <td>1978.000000</td>\n",
       "      <td>1959.000000</td>\n",
       "      <td>96972.0</td>\n",
       "      <td>1959.000000</td>\n",
       "    </tr>\n",
       "    <tr>\n",
       "      <th>2020-04-03</th>\n",
       "      <td>2113.000000</td>\n",
       "      <td>1950.000000</td>\n",
       "      <td>1979.000000</td>\n",
       "      <td>2077.000000</td>\n",
       "      <td>1013029.0</td>\n",
       "      <td>2077.000000</td>\n",
       "    </tr>\n",
       "    <tr>\n",
       "      <th>2020-04-07</th>\n",
       "      <td>2388.550049</td>\n",
       "      <td>2112.300049</td>\n",
       "      <td>2159.750000</td>\n",
       "      <td>2354.350098</td>\n",
       "      <td>1104575.0</td>\n",
       "      <td>2354.350098</td>\n",
       "    </tr>\n",
       "    <tr>\n",
       "      <th>2020-04-08</th>\n",
       "      <td>2644.899902</td>\n",
       "      <td>2360.000000</td>\n",
       "      <td>2380.000000</td>\n",
       "      <td>2537.350098</td>\n",
       "      <td>2038800.0</td>\n",
       "      <td>2537.350098</td>\n",
       "    </tr>\n",
       "  </tbody>\n",
       "</table>\n",
       "<p>2032 rows × 6 columns</p>\n",
       "</div>"
      ],
      "text/plain": [
       "                   High          Low         Open        Close     Volume  \\\n",
       "Date                                                                        \n",
       "2012-01-02   274.500000   267.975006   272.649994   270.799988    28842.0   \n",
       "2012-01-03   275.000000   267.500000   271.000000   272.000000    12304.0   \n",
       "2012-01-04   273.875000   269.000000   269.575012   269.850006    61410.0   \n",
       "2012-01-05   275.000000   263.500000   271.450012   268.875000    16936.0   \n",
       "2012-01-06   269.225006   262.625000   265.500000   264.274994     3064.0   \n",
       "...                 ...          ...          ...          ...        ...   \n",
       "2020-03-31  2008.000000  1952.000000  1979.699951  1971.800049   324803.0   \n",
       "2020-04-01  1983.150024  1932.000000  1978.000000  1959.000000    96972.0   \n",
       "2020-04-03  2113.000000  1950.000000  1979.000000  2077.000000  1013029.0   \n",
       "2020-04-07  2388.550049  2112.300049  2159.750000  2354.350098  1104575.0   \n",
       "2020-04-08  2644.899902  2360.000000  2380.000000  2537.350098  2038800.0   \n",
       "\n",
       "              Adj Close  \n",
       "Date                     \n",
       "2012-01-02   231.609940  \n",
       "2012-01-03   232.636276  \n",
       "2012-01-04   230.797440  \n",
       "2012-01-05   229.963547  \n",
       "2012-01-06   226.029251  \n",
       "...                 ...  \n",
       "2020-03-31  1971.800049  \n",
       "2020-04-01  1959.000000  \n",
       "2020-04-03  2077.000000  \n",
       "2020-04-07  2354.350098  \n",
       "2020-04-08  2537.350098  \n",
       "\n",
       "[2032 rows x 6 columns]"
      ]
     },
     "execution_count": 3,
     "metadata": {},
     "output_type": "execute_result"
    }
   ],
   "source": [
    "#Get the stock quote\n",
    "df = web.DataReader('TORNTPHARM.NS', data_source='yahoo', start='2012-01-01', end='2020-4-8')\n",
    "#Show the data \n",
    "df"
   ]
  },
  {
   "cell_type": "code",
   "execution_count": 4,
   "metadata": {},
   "outputs": [
    {
     "data": {
      "text/plain": [
       "(2032, 6)"
      ]
     },
     "execution_count": 4,
     "metadata": {},
     "output_type": "execute_result"
    }
   ],
   "source": [
    "#Get the number of rows and columns\n",
    "df.shape"
   ]
  },
  {
   "cell_type": "code",
   "execution_count": 5,
   "metadata": {},
   "outputs": [
    {
     "data": {
      "image/png": "[encoded data removed]",
      "text/plain": [
       "<Figure size 1152x576 with 1 Axes>"
      ]
     },
     "metadata": {
      "needs_background": "light"
     },
     "output_type": "display_data"
    }
   ],
   "source": [
    "#Visualize the closing price history\n",
    "plt.figure(figsize=(16,8))\n",
    "plt.title('Close Price History')\n",
    "plt.plot(df['Close'])\n",
    "plt.xlabel('Date', fontsize=18)\n",
    "plt.ylabel('Close Price USD ($)', fontsize=18)\n",
    "plt.show()"
   ]
  },
  {
   "cell_type": "code",
   "execution_count": 6,
   "metadata": {},
   "outputs": [
    {
     "data": {
      "text/plain": [
       "1626"
      ]
     },
     "execution_count": 6,
     "metadata": {},
     "output_type": "execute_result"
    }
   ],
   "source": [
    "#Create a new column with only 'Close' column\n",
    "data = df.filter(['Close'])\n",
    "#Convert the dataframe to numpy array\n",
    "dataset = data.values\n",
    "#Get the number of rows to train the model on\n",
    "training_data_len = math.ceil( len(dataset)* .8)\n",
    "\n",
    "training_data_len"
   ]
  },
  {
   "cell_type": "code",
   "execution_count": 7,
   "metadata": {},
   "outputs": [
    {
     "data": {
      "text/plain": [
       "array([[0.00287056],\n",
       "       [0.00339848],\n",
       "       [0.00245263],\n",
       "       ...,\n",
       "       [0.79747695],\n",
       "       [0.91949232],\n",
       "       [1.        ]])"
      ]
     },
     "execution_count": 7,
     "metadata": {},
     "output_type": "execute_result"
    }
   ],
   "source": [
    "#Scale the data \n",
    "scaler = MinMaxScaler(feature_range=(0,1))\n",
    "scaled_data = scaler.fit_transform(dataset)\n",
    "\n",
    "scaled_data"
   ]
  },
  {
   "cell_type": "code",
   "execution_count": 8,
   "metadata": {},
   "outputs": [
    {
     "name": "stdout",
     "output_type": "stream",
     "text": [
      "[array([0.00287056, 0.00339848, 0.00245263, 0.00202369, 0.        ,\n",
      "       0.00157276, 0.00162776, 0.00538918, 0.00541118, 0.0051802 ,\n",
      "       0.00471828, 0.00567513, 0.00663199, 0.00668698, 0.0065    ,\n",
      "       0.00427835, 0.00364044, 0.00447632, 0.0026726 , 0.00481727,\n",
      "       0.0052132 , 0.00791879, 0.00948056, 0.00711592, 0.00922759,\n",
      "       0.0091286 , 0.00872167, 0.00801778, 0.00772083, 0.00905162,\n",
      "       0.00777582, 0.01039341, 0.00901862, 0.01015145, 0.00845771,\n",
      "       0.00735788, 0.00633503, 0.00632403, 0.00544417, 0.00489425,\n",
      "       0.0045643 , 0.00808376, 0.00867767, 0.00762184, 0.00699493,\n",
      "       0.00736887, 0.00975552, 0.01274705, 0.01658547, 0.01609054,\n",
      "       0.01933505, 0.01614553, 0.01615653, 0.01651948, 0.01717938,\n",
      "       0.01739935, 0.01790527, 0.02013792, 0.01948903, 0.01922506])]\n",
      "[0.019675991360575157]\n",
      "\n",
      "[array([0.00287056, 0.00339848, 0.00245263, 0.00202369, 0.        ,\n",
      "       0.00157276, 0.00162776, 0.00538918, 0.00541118, 0.0051802 ,\n",
      "       0.00471828, 0.00567513, 0.00663199, 0.00668698, 0.0065    ,\n",
      "       0.00427835, 0.00364044, 0.00447632, 0.0026726 , 0.00481727,\n",
      "       0.0052132 , 0.00791879, 0.00948056, 0.00711592, 0.00922759,\n",
      "       0.0091286 , 0.00872167, 0.00801778, 0.00772083, 0.00905162,\n",
      "       0.00777582, 0.01039341, 0.00901862, 0.01015145, 0.00845771,\n",
      "       0.00735788, 0.00633503, 0.00632403, 0.00544417, 0.00489425,\n",
      "       0.0045643 , 0.00808376, 0.00867767, 0.00762184, 0.00699493,\n",
      "       0.00736887, 0.00975552, 0.01274705, 0.01658547, 0.01609054,\n",
      "       0.01933505, 0.01614553, 0.01615653, 0.01651948, 0.01717938,\n",
      "       0.01739935, 0.01790527, 0.02013792, 0.01948903, 0.01922506]), array([0.00339848, 0.00245263, 0.00202369, 0.        , 0.00157276,\n",
      "       0.00162776, 0.00538918, 0.00541118, 0.0051802 , 0.00471828,\n",
      "       0.00567513, 0.00663199, 0.00668698, 0.0065    , 0.00427835,\n",
      "       0.00364044, 0.00447632, 0.0026726 , 0.00481727, 0.0052132 ,\n",
      "       0.00791879, 0.00948056, 0.00711592, 0.00922759, 0.0091286 ,\n",
      "       0.00872167, 0.00801778, 0.00772083, 0.00905162, 0.00777582,\n",
      "       0.01039341, 0.00901862, 0.01015145, 0.00845771, 0.00735788,\n",
      "       0.00633503, 0.00632403, 0.00544417, 0.00489425, 0.0045643 ,\n",
      "       0.00808376, 0.00867767, 0.00762184, 0.00699493, 0.00736887,\n",
      "       0.00975552, 0.01274705, 0.01658547, 0.01609054, 0.01933505,\n",
      "       0.01614553, 0.01615653, 0.01651948, 0.01717938, 0.01739935,\n",
      "       0.01790527, 0.02013792, 0.01948903, 0.01922506, 0.01967599])]\n",
      "[0.019675991360575157, 0.022447561812668132]\n",
      "\n"
     ]
    }
   ],
   "source": [
    "#Create the training dataset \n",
    "#Create the scaled training dataset\n",
    "train_data = scaled_data[0:training_data_len , :]\n",
    "#Split the data into x_train and y_train data sets \n",
    "x_train = []\n",
    "y_train = []\n",
    "\n",
    "for i in range(60, len(train_data)):\n",
    "    x_train.append(train_data[i-60:i, 0])\n",
    "    y_train.append(train_data[i, 0])\n",
    "    if i<=61:\n",
    "        print(x_train)\n",
    "        print(y_train)\n",
    "        print()\n",
    "        "
   ]
  },
  {
   "cell_type": "code",
   "execution_count": 9,
   "metadata": {},
   "outputs": [],
   "source": [
    "#Convert the x_train and y_train to numpy arrays\n",
    "x_train, y_train = np.array(x_train), np.array(y_train)"
   ]
  },
  {
   "cell_type": "code",
   "execution_count": 10,
   "metadata": {},
   "outputs": [
    {
     "data": {
      "text/plain": [
       "(1566, 60, 1)"
      ]
     },
     "execution_count": 10,
     "metadata": {},
     "output_type": "execute_result"
    }
   ],
   "source": [
    "#Reshape the data\n",
    "x_train = np.reshape(x_train, (x_train.shape[0], x_train.shape[1], 1))\n",
    "x_train.shape"
   ]
  },
  {
   "cell_type": "code",
   "execution_count": 11,
   "metadata": {},
   "outputs": [],
   "source": [
    "#Build the LSTM model\n",
    "model = Sequential()\n",
    "model.add(LSTM(50, return_sequences=True, input_shape=(x_train.shape[1], 1)))\n",
    "model.add(LSTM(50, return_sequences=False))\n",
    "model.add(Dense(25))\n",
    "model.add(Dense(1))"
   ]
  },
  {
   "cell_type": "code",
   "execution_count": 12,
   "metadata": {},
   "outputs": [],
   "source": [
    "#Compile the model\n",
    "model.compile(optimizer='adam', loss='mean_squared_error')"
   ]
  },
  {
   "cell_type": "code",
   "execution_count": 13,
   "metadata": {},
   "outputs": [
    {
     "name": "stdout",
     "output_type": "stream",
     "text": [
      "Epoch 1/1\n",
      "1566/1566 [==============================] - 51s 32ms/step - loss: 0.0011\n"
     ]
    },
    {
     "data": {
      "text/plain": [
       "<keras.callbacks.callbacks.History at 0x2bfc0c0fa88>"
      ]
     },
     "execution_count": 13,
     "metadata": {},
     "output_type": "execute_result"
    }
   ],
   "source": [
    "#Train the model\n",
    "model.fit(x_train, y_train, batch_size=1, epochs=1)"
   ]
  },
  {
   "cell_type": "code",
   "execution_count": 14,
   "metadata": {},
   "outputs": [],
   "source": [
    "#Create the testing dataset \n",
    "#Create a new array containing scaled value from index 1603 to 2063\n",
    "test_data = scaled_data[training_data_len - 60: , :]\n",
    "#Create the dataset x_test and y_test\n",
    "x_test = []\n",
    "y_test = dataset[training_data_len: , :]\n",
    "for i in range(60, len(test_data)):\n",
    "    x_test.append(test_data[i-60:i, 0])\n",
    "    "
   ]
  },
  {
   "cell_type": "code",
   "execution_count": 15,
   "metadata": {},
   "outputs": [],
   "source": [
    "#Convert the data to numpy array\n",
    "x_test = np.array(x_test)"
   ]
  },
  {
   "cell_type": "code",
   "execution_count": 16,
   "metadata": {},
   "outputs": [],
   "source": [
    "#Reshape the data \n",
    "x_test = np.reshape(x_test, (x_test.shape[0], x_test.shape[1], 1))"
   ]
  },
  {
   "cell_type": "code",
   "execution_count": 17,
   "metadata": {},
   "outputs": [],
   "source": [
    "#Get the models predicted price values\n",
    "predictions = model.predict(x_test)\n",
    "predictions = scaler.inverse_transform(predictions)"
   ]
  },
  {
   "cell_type": "code",
   "execution_count": 18,
   "metadata": {},
   "outputs": [
    {
     "data": {
      "text/plain": [
       "67.87900236913404"
      ]
     },
     "execution_count": 18,
     "metadata": {},
     "output_type": "execute_result"
    }
   ],
   "source": [
    "#Get the root mean squared error (RMSE)\n",
    "rmse = np.sqrt( np.mean(( predictions - y_test)**2 ))\n",
    "rmse"
   ]
  },
  {
   "cell_type": "code",
   "execution_count": 19,
   "metadata": {},
   "outputs": [
    {
     "name": "stderr",
     "output_type": "stream",
     "text": [
      "C:\\Users\\aryam\\Anaconda3\\lib\\site-packages\\ipykernel_launcher.py:4: SettingWithCopyWarning: \n",
      "A value is trying to be set on a copy of a slice from a DataFrame.\n",
      "Try using .loc[row_indexer,col_indexer] = value instead\n",
      "\n",
      "See the caveats in the documentation: https://pandas.pydata.org/pandas-docs/stable/user_guide/indexing.html#returning-a-view-versus-a-copy\n",
      "  after removing the cwd from sys.path.\n"
     ]
    },
    {
     "data": {
      "image/png": "[encoded data removed]",
      "text/plain": [
       "<Figure size 1152x576 with 1 Axes>"
      ]
     },
     "metadata": {
      "needs_background": "light"
     },
     "output_type": "display_data"
    }
   ],
   "source": [
    "#Plot the data \n",
    "train = data[:training_data_len]\n",
    "valid = data[training_data_len:]\n",
    "valid['Predictions'] = predictions\n",
    "#Visualize the data\n",
    "plt.figure(figsize=(16,8))\n",
    "plt.title('Model')\n",
    "plt.xlabel('Date', fontsize=18)\n",
    "plt.ylabel('Close Price USD ($)', fontsize=18)\n",
    "plt.plot(train['Close'])\n",
    "plt.plot(valid[['Close', 'Predictions']])\n",
    "plt.legend(['Train', 'Val', 'Predictions'], loc='lower right')\n",
    "plt.show()"
   ]
  },
  {
   "cell_type": "code",
   "execution_count": 20,
   "metadata": {},
   "outputs": [
    {
     "data": {
      "text/html": [
       "<div>\n",
       "<style scoped>\n",
       "    .dataframe tbody tr th:only-of-type {\n",
       "        vertical-align: middle;\n",
       "    }\n",
       "\n",
       "    .dataframe tbody tr th {\n",
       "        vertical-align: top;\n",
       "    }\n",
       "\n",
       "    .dataframe thead th {\n",
       "        text-align: right;\n",
       "    }\n",
       "</style>\n",
       "<table border=\"1\" class=\"dataframe\">\n",
       "  <thead>\n",
       "    <tr style=\"text-align: right;\">\n",
       "      <th></th>\n",
       "      <th>Close</th>\n",
       "      <th>Predictions</th>\n",
       "    </tr>\n",
       "    <tr>\n",
       "      <th>Date</th>\n",
       "      <th></th>\n",
       "      <th></th>\n",
       "    </tr>\n",
       "  </thead>\n",
       "  <tbody>\n",
       "    <tr>\n",
       "      <th>2018-08-06</th>\n",
       "      <td>1651.099976</td>\n",
       "      <td>1539.831543</td>\n",
       "    </tr>\n",
       "    <tr>\n",
       "      <th>2018-08-07</th>\n",
       "      <td>1682.949951</td>\n",
       "      <td>1560.787231</td>\n",
       "    </tr>\n",
       "    <tr>\n",
       "      <th>2018-08-08</th>\n",
       "      <td>1719.699951</td>\n",
       "      <td>1585.165894</td>\n",
       "    </tr>\n",
       "    <tr>\n",
       "      <th>2018-08-09</th>\n",
       "      <td>1700.400024</td>\n",
       "      <td>1612.248535</td>\n",
       "    </tr>\n",
       "    <tr>\n",
       "      <th>2018-08-10</th>\n",
       "      <td>1697.050049</td>\n",
       "      <td>1636.170776</td>\n",
       "    </tr>\n",
       "    <tr>\n",
       "      <th>...</th>\n",
       "      <td>...</td>\n",
       "      <td>...</td>\n",
       "    </tr>\n",
       "    <tr>\n",
       "      <th>2020-03-31</th>\n",
       "      <td>1971.800049</td>\n",
       "      <td>1831.524658</td>\n",
       "    </tr>\n",
       "    <tr>\n",
       "      <th>2020-04-01</th>\n",
       "      <td>1959.000000</td>\n",
       "      <td>1846.768066</td>\n",
       "    </tr>\n",
       "    <tr>\n",
       "      <th>2020-04-03</th>\n",
       "      <td>2077.000000</td>\n",
       "      <td>1863.116455</td>\n",
       "    </tr>\n",
       "    <tr>\n",
       "      <th>2020-04-07</th>\n",
       "      <td>2354.350098</td>\n",
       "      <td>1889.345581</td>\n",
       "    </tr>\n",
       "    <tr>\n",
       "      <th>2020-04-08</th>\n",
       "      <td>2537.350098</td>\n",
       "      <td>1942.759155</td>\n",
       "    </tr>\n",
       "  </tbody>\n",
       "</table>\n",
       "<p>406 rows × 2 columns</p>\n",
       "</div>"
      ],
      "text/plain": [
       "                  Close  Predictions\n",
       "Date                                \n",
       "2018-08-06  1651.099976  1539.831543\n",
       "2018-08-07  1682.949951  1560.787231\n",
       "2018-08-08  1719.699951  1585.165894\n",
       "2018-08-09  1700.400024  1612.248535\n",
       "2018-08-10  1697.050049  1636.170776\n",
       "...                 ...          ...\n",
       "2020-03-31  1971.800049  1831.524658\n",
       "2020-04-01  1959.000000  1846.768066\n",
       "2020-04-03  2077.000000  1863.116455\n",
       "2020-04-07  2354.350098  1889.345581\n",
       "2020-04-08  2537.350098  1942.759155\n",
       "\n",
       "[406 rows x 2 columns]"
      ]
     },
     "execution_count": 20,
     "metadata": {},
     "output_type": "execute_result"
    }
   ],
   "source": [
    "#Show the valid and predicted price\n",
    "valid"
   ]
  },
  {
   "cell_type": "code",
   "execution_count": 21,
   "metadata": {},
   "outputs": [
    {
     "name": "stdout",
     "output_type": "stream",
     "text": [
      "[[2019.8226]]\n"
     ]
    }
   ],
   "source": [
    "#Get the quote\n",
    "apple_quote = web.DataReader('TORNTPHARM.NS', data_source='yahoo', start='2012-01-01', end='2020-04-08')\n",
    "#Create the dataframe\n",
    "new_df = apple_quote.filter(['Close'])\n",
    "#Get the last 60 days closing price values and convert the dataframe \n",
    "last_60_days = new_df[-60:].values\n",
    "#Scale the data to be values between 0 and 1\n",
    "last_60_days_scaled = scaler.transform(last_60_days)\n",
    "#Create an empty list \n",
    "X_test = []\n",
    "#Append the past 60 days \n",
    "X_test.append(last_60_days_scaled)\n",
    "#Convert the X_test data set to numpy array\n",
    "X_test = np.array(X_test)\n",
    "#Reshape the data\n",
    "X_test = np.reshape(X_test, (X_test.shape[0], X_test.shape[1], 1))\n",
    "#Get the predicted scaled price \n",
    "pred_price = model.predict(X_test)\n",
    "#Undo the scaling\n",
    "pred_price = scaler.inverse_transform(pred_price)\n",
    "print(pred_price)"
   ]
  },
  {
   "cell_type": "code",
   "execution_count": 22,
   "metadata": {},
   "outputs": [
    {
     "name": "stdout",
     "output_type": "stream",
     "text": [
      "Date\n",
      "2020-04-08    2537.350098\n",
      "Name: Close, dtype: float64\n"
     ]
    }
   ],
   "source": [
    "#Get the quote\n",
    "apple_quote2 = web.DataReader('TORNTPHARM.NS', data_source='yahoo', start='2020-04-08', end='2020-04-08')\n",
    "print(apple_quote2['Close'])"
   ]
  },
  {
   "cell_type": "code",
   "execution_count": null,
   "metadata": {},
   "outputs": [],
   "source": []
  }
 ],
 "metadata": {
  "kernelspec": {
   "display_name": "Python 3",
   "language": "python",
   "name": "python3"
  },
  "language_info": {
   "codemirror_mode": {
    "name": "ipython",
    "version": 3
   },
   "file_extension": ".py",
   "mimetype": "text/x-python",
   "name": "python",
   "nbconvert_exporter": "python",
   "pygments_lexer": "ipython3",
   "version": "3.7.4"
  }
 },
 "nbformat": 4,
 "nbformat_minor": 2
}
